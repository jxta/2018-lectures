{
 "cells": [
  {
   "cell_type": "markdown",
   "metadata": {},
   "source": [
    "** OpenStakc Web APIを使って仮想マシンを操作してみよう　** 　　\n",
    "\n",
    "API referenceは　　\n",
    "\n",
    "https://developer.openstack.org/ja/api-guide/quick-start/　　\n",
    "\n",
    "https://developer.openstack.org/api-ref/identity/v2/　　\n",
    "\n",
    "https://developer.openstack.org/api-ref/compute/"
   ]
  },
  {
   "cell_type": "markdown",
   "metadata": {},
   "source": [
    "** まず　APIを使う時の認証に必要なtokenを　usernameとpasswordを　identity manager に問い合わせて獲得　** 　　\n",
    "\n",
    "token のところの　idに現れる　文字列がそれ。但し、一定時間経つと　expireするので使えなくなる　　\n",
    "\n",
    "token は以降　APIを呼び出すたびに必要となる"
   ]
  },
  {
   "cell_type": "code",
   "execution_count": null,
   "metadata": {
    "collapsed": false,
    "deletable": true,
    "editable": true
   },
   "outputs": [],
   "source": [
    "%%bash\n",
    "export OS_AUTH_URL=http://133.8.140.100:5000/v2.0\n",
    "export project=students\n",
    "export username=jxta\n",
    "export password=Gunma-u#\n",
    "curl -s -X POST $OS_AUTH_URL/tokens  -H \"Content-Type: application/json\"  -d '{\"auth\": {\"tenantName\": \"'\"$project\"'\", \"passwordCredentials\":  {\"username\": \"'\"$username\"'\", \"password\": \"'\"$password\"'\"}}}' | python -m json.tool"
   ]
  },
  {
   "cell_type": "code",
   "execution_count": null,
   "metadata": {
    "collapsed": false,
    "deletable": true,
    "editable": true
   },
   "outputs": [],
   "source": [
    "%%bash\n",
    "export X_Auth_Token=c4145845f5e241a4896dbb5926de618d\n",
    "export NOVA_END_POINT=http://133.8.140.100:8774/v2/ffa71537eab64c55a67379f8e1471ed8\n",
    "curl -s -H  \"X-Auth-Token:$X_Auth_Token\" $NOVA_END_POINT/flavors | python -m json.tool"
   ]
  },
  {
   "cell_type": "markdown",
   "metadata": {},
   "source": [
    "** server 一覧　を取得し、自分の使っている仮想マシンの　server_idを得る　**"
   ]
  },
  {
   "cell_type": "code",
   "execution_count": null,
   "metadata": {
    "collapsed": false,
    "deletable": true,
    "editable": true
   },
   "outputs": [],
   "source": [
    "%%bash\n",
    "export X_Auth_Token=c4145845f5e241a4896dbb5926de618d\n",
    "export NOVA_END_POINT=http://133.8.140.100:8774/v2/ffa71537eab64c55a67379f8e1471ed8\n",
    "curl -s -H  \"X-Auth-Token:$X_Auth_Token\" $NOVA_END_POINT/servers | python -m json.tool"
   ]
  },
  {
   "cell_type": "markdown",
   "metadata": {},
   "source": [
    "** 取得したserver_idを指定して、その仮想マシンの詳細情報を取得　**"
   ]
  },
  {
   "cell_type": "code",
   "execution_count": null,
   "metadata": {
    "collapsed": false,
    "deletable": true,
    "editable": true
   },
   "outputs": [],
   "source": [
    "%%bash\n",
    "export X_Auth_Token=c4145845f5e241a4896dbb5926de618d\n",
    "export NOVA_END_POINT=http://133.8.140.100:8774/v2/ffa71537eab64c55a67379f8e1471ed8\n",
    "export SERVER_ID=0cb15a6f-f21c-44c5-bf2d-c2aadb2017e4\n",
    "curl -s -H  \"X-Auth-Token:$X_Auth_Token\" $NOVA_END_POINT/servers/$SERVER_ID | python -m json.tool"
   ]
  },
  {
   "cell_type": "markdown",
   "metadata": {},
   "source": [
    "** その仮想マシンの名前を変更してみましょう。** \n",
    "\n",
    "**そして実際に変化していることを OpenStackのDash Boardで確認してみよう　**  \n",
    "\n",
    "OpenStackのDash Board : http://133.8.140.100/dashboard"
   ]
  },
  {
   "cell_type": "code",
   "execution_count": null,
   "metadata": {
    "collapsed": false,
    "deletable": true,
    "editable": true
   },
   "outputs": [],
   "source": [
    "%%bash\n",
    "export X_Auth_Token=c4145845f5e241a4896dbb5926de618d\n",
    "export NOVA_END_POINT=http://133.8.140.100:8774/v2/ffa71537eab64c55a67379f8e1471ed8\n",
    "export SERVER_ID=0cb15a6f-f21c-44c5-bf2d-c2aadb2017e4\n",
    "curl -X PUT -H \"Content-Type: application/json\" -H \"X-Auth-Token:$X_Auth_Token\"  -d '{\"server\": { \"name\" : \"yoko-04\" }}' $NOVA_END_POINT/servers/$SERVER_ID|python -m json.tool"
   ]
  },
  {
   "cell_type": "markdown",
   "metadata": {},
   "source": []
  },
  {
   "cell_type": "markdown",
   "metadata": {},
   "source": [
    "** 仮想マシンを停止してみよう　**\n",
    "\n",
    "**そして実際に停止していることを OpenStackのDash Boardで確認してみよう　**  \n",
    "\n",
    "** また、sshできなくなっていることを確認してみよう　**\n",
    "\n",
    "OpenStackのDash Board : http://133.8.140.100/dashboard\n"
   ]
  },
  {
   "cell_type": "code",
   "execution_count": null,
   "metadata": {
    "collapsed": false,
    "deletable": true,
    "editable": true
   },
   "outputs": [],
   "source": [
    "%%bash\n",
    "export X_Auth_Token=c4145845f5e241a4896dbb5926de618d\n",
    "export NOVA_END_POINT=http://133.8.140.100:8774/v2/ffa71537eab64c55a67379f8e1471ed8\n",
    "export SERVER_ID=0cb15a6f-f21c-44c5-bf2d-c2aadb2017e4\n",
    "curl -X POST -H \"Content-Type: application/json\" -H \"X-Auth-Token:$X_Auth_Token\"  -d '{\"os-stop\": null}' $NOVA_END_POINT/servers/$SERVER_ID/action"
   ]
  },
  {
   "cell_type": "markdown",
   "metadata": {
    "deletable": true,
    "editable": true
   },
   "source": [
    "** 仮想マシンを再稼働してみよう　**\n",
    "\n",
    "**そして実際に再稼働していることを OpenStackのDash Boardで確認してみよう　**  \n",
    "\n",
    "** sshが再度できるようになっていることを確認してみよう　**\n",
    "\n",
    "OpenStackのDash Board : http://133.8.140.100/dashboard\n"
   ]
  },
  {
   "cell_type": "code",
   "execution_count": null,
   "metadata": {
    "collapsed": false,
    "deletable": true,
    "editable": true
   },
   "outputs": [],
   "source": [
    "%%bash\n",
    "export X_Auth_Token=c4145845f5e241a4896dbb5926de618d\n",
    "export NOVA_END_POINT=http://133.8.140.100:8774/v2/ffa71537eab64c55a67379f8e1471ed8\n",
    "export SERVER_ID=0cb15a6f-f21c-44c5-bf2d-c2aadb2017e4\n",
    "curl -X POST -H \"Content-Type: application/json\" -H \"X-Auth-Token:$X_Auth_Token\"  -d '{\"os-start\": null}' $NOVA_END_POINT/servers/$SERVER_ID/action"
   ]
  }
 ],
 "metadata": {
  "kernelspec": {
   "display_name": "Python 3",
   "language": "python",
   "name": "python3"
  },
  "language_info": {
   "codemirror_mode": {
    "name": "ipython",
    "version": 3
   },
   "file_extension": ".py",
   "mimetype": "text/x-python",
   "name": "python",
   "nbconvert_exporter": "python",
   "pygments_lexer": "ipython3",
   "version": "3.5.2"
  }
 },
 "nbformat": 4,
 "nbformat_minor": 2
}
