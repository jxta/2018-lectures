{
 "cells": [
  {
   "cell_type": "markdown",
   "metadata": {
    "deletable": true,
    "editable": true
   },
   "source": [
    "** 対称鍵暗号に触れてみる **"
   ]
  },
  {
   "cell_type": "markdown",
   "metadata": {
    "deletable": true,
    "editable": true
   },
   "source": [
    "** 平文を入力　**"
   ]
  },
  {
   "cell_type": "code",
   "execution_count": null,
   "metadata": {
    "collapsed": false,
    "deletable": true,
    "editable": true
   },
   "outputs": [],
   "source": [
    "plane_text=input(\"平文を入力:\")\n",
    "print(plane_text)"
   ]
  },
  {
   "cell_type": "markdown",
   "metadata": {
    "deletable": true,
    "editable": true
   },
   "source": [
    "** ずらす幅を入力　**"
   ]
  },
  {
   "cell_type": "code",
   "execution_count": null,
   "metadata": {
    "collapsed": false,
    "deletable": true,
    "editable": true
   },
   "outputs": [],
   "source": [
    "offset=input(\"置換幅を入力: \")\n",
    "print(offset)"
   ]
  },
  {
   "cell_type": "markdown",
   "metadata": {
    "deletable": true,
    "editable": true
   },
   "source": [
    "** 暗号化し暗号文を表示　**"
   ]
  },
  {
   "cell_type": "code",
   "execution_count": null,
   "metadata": {
    "collapsed": false,
    "deletable": true,
    "editable": true
   },
   "outputs": [],
   "source": [
    "size=len(plane_text)\n",
    "cipher_text=[]\n",
    "decipher_text=[]\n",
    "offset=int(offset)%26\n",
    "for i in range(size):\n",
    "    cipher_text.append(0)\n",
    "    decipher_text.append(0)\n",
    "for i in range(size):\n",
    "    cipher_text[i]=chr(ord(plane_text[i])+offset)\n",
    "print(cipher_text)"
   ]
  },
  {
   "cell_type": "markdown",
   "metadata": {
    "deletable": true,
    "editable": true
   },
   "source": [
    "** 復号化し復号文を表示　**"
   ]
  },
  {
   "cell_type": "code",
   "execution_count": null,
   "metadata": {
    "collapsed": false,
    "deletable": true,
    "editable": true
   },
   "outputs": [],
   "source": [
    "for i in range(size):\n",
    "    decipher_text[i]=chr(ord(cipher_text[i])-offset)\n",
    "print(decipher_text)"
   ]
  },
  {
   "cell_type": "markdown",
   "metadata": {
    "deletable": true,
    "editable": true
   },
   "source": [
    "** 暗号破りを体験 （置換幅が分からない攻撃者が総当たり攻撃）  ** "
   ]
  },
  {
   "cell_type": "code",
   "execution_count": null,
   "metadata": {
    "collapsed": false,
    "deletable": true,
    "editable": true
   },
   "outputs": [],
   "source": [
    "for j in range(26):\n",
    "    for i in range(size):\n",
    "        decipher_text[i]=chr(ord(cipher_text[i])-int(j))\n",
    "    print(decipher_text)"
   ]
  },
  {
   "cell_type": "markdown",
   "metadata": {
    "deletable": true,
    "editable": true
   },
   "source": [
    "![DH-1](http://i.imgur.com/LC5mvn9.png)"
   ]
  },
  {
   "cell_type": "markdown",
   "metadata": {
    "deletable": true,
    "editable": true
   },
   "source": [
    "![DH-2](http://i.imgur.com/CkYNGuY.png)"
   ]
  },
  {
   "cell_type": "markdown",
   "metadata": {
    "deletable": true,
    "editable": true
   },
   "source": [
    "** Diffie-Hellman鍵共有方式 **"
   ]
  },
  {
   "cell_type": "code",
   "execution_count": null,
   "metadata": {
    "collapsed": false,
    "deletable": true,
    "editable": true
   },
   "outputs": [],
   "source": [
    "q=7  # 位数\n",
    "g=3  # 生成元\n",
    "for n in range(q):\n",
    "    print((g**n)%q, end=',') "
   ]
  },
  {
   "cell_type": "markdown",
   "metadata": {
    "deletable": true,
    "editable": true
   },
   "source": [
    "![DH-3](http://i.imgur.com/E3VkZvi.png)"
   ]
  },
  {
   "cell_type": "markdown",
   "metadata": {
    "deletable": true,
    "editable": true
   },
   "source": [
    "![DH-4](http://i.imgur.com/vqpUlkl.png)"
   ]
  },
  {
   "cell_type": "markdown",
   "metadata": {
    "deletable": true,
    "editable": true
   },
   "source": [
    "![DH-5](http://i.imgur.com/fnT3pNB.png)"
   ]
  },
  {
   "cell_type": "markdown",
   "metadata": {
    "deletable": true,
    "editable": true
   },
   "source": [
    "** DH法の計算例 **"
   ]
  },
  {
   "cell_type": "code",
   "execution_count": null,
   "metadata": {
    "collapsed": false,
    "deletable": true,
    "editable": true
   },
   "outputs": [],
   "source": [
    "q=197 # 位数\n",
    "g=3   # 生成元\n",
    "x=51  # bobの使った乱数\n",
    "y=55  # aliceの使った乱数\n",
    "msg_bob_to_alice=(g ** x) % q \n",
    "print('msg_bob_to_alice=', msg_bob_to_alice)\n",
    "!sleep 5\n",
    "msg_alice_to_bob=(g ** y) % q \n",
    "print('msg_alice_to_bob=', msg_alice_to_bob)\n",
    "!sleep 5\n",
    "key_bob=(msg_alice_to_bob**x)%q\n",
    "print('key_bob=', key_bob)\n",
    "!sleep 7\n",
    "key_alice=(msg_bob_to_alice**y)%q\n",
    "print('key_alice=', key_alice)"
   ]
  },
  {
   "cell_type": "markdown",
   "metadata": {
    "deletable": true,
    "editable": true
   },
   "source": [
    "** DH法の計算例 （ちょっと　設定を変えてみよう：bobやaliceの使う乱数を変えてみよう）　**"
   ]
  },
  {
   "cell_type": "code",
   "execution_count": null,
   "metadata": {
    "collapsed": false,
    "deletable": true,
    "editable": true
   },
   "outputs": [],
   "source": [
    "q=197 # 位数\n",
    "g=3   # 生成元\n",
    "x=101  # bobの使った乱数\n",
    "y=3  # aliceの使った乱数\n",
    "msg_bob_to_alice=(g ** x) % q \n",
    "print('msg_bob_to_alice=', msg_bob_to_alice)\n",
    "msg_alice_to_bob=(g ** y) % q \n",
    "print('msg_alice_to_bob=', msg_alice_to_bob)\n",
    "key_bob=(msg_alice_to_bob**x)%q\n",
    "print('key_bob=', key_bob)\n",
    "key_alice=(msg_bob_to_alice**y)%q\n",
    "print('key_alice=', key_alice)"
   ]
  },
  {
   "cell_type": "markdown",
   "metadata": {
    "deletable": true,
    "editable": true
   },
   "source": [
    "** DH法の計算例 （もっと　設定を変えてみよう：　位数や生成元を変えてみよう）　**"
   ]
  },
  {
   "cell_type": "code",
   "execution_count": null,
   "metadata": {
    "collapsed": false,
    "deletable": true,
    "editable": true
   },
   "outputs": [],
   "source": [
    "q=7 # 位数\n",
    "g=3   # 生成元\n",
    "x=101  # bobの使った乱数\n",
    "y=3  # aliceの使った乱数\n",
    "msg_bob_to_alice=(g ** x) % q \n",
    "print('msg_bob_to_alice=', msg_bob_to_alice)\n",
    "msg_alice_to_bob=(g ** y) % q \n",
    "print('msg_alice_to_bob=', msg_alice_to_bob)\n",
    "key_bob=(msg_alice_to_bob**x)%q\n",
    "print('key_bob=', key_bob)\n",
    "key_alice=(msg_bob_to_alice**y)%q\n",
    "print('key_alice=', key_alice)"
   ]
  },
  {
   "cell_type": "code",
   "execution_count": null,
   "metadata": {
    "collapsed": false,
    "deletable": true,
    "editable": true
   },
   "outputs": [],
   "source": [
    "q=9973 # 位数\n",
    "g=17   # 生成元\n",
    "x=101  # bobの使った乱数\n",
    "y=3  # aliceの使った乱数\n",
    "msg_bob_to_alice=(g ** x) % q \n",
    "print('msg_bob_to_alice=', msg_bob_to_alice)\n",
    "msg_alice_to_bob=(g ** y) % q \n",
    "print('msg_alice_to_bob=', msg_alice_to_bob)\n",
    "key_bob=(msg_alice_to_bob**x)%q\n",
    "print('key_bob=', key_bob)\n",
    "key_alice=(msg_bob_to_alice**y)%q\n",
    "print('key_alice=', key_alice)"
   ]
  },
  {
   "cell_type": "markdown",
   "metadata": {
    "deletable": true,
    "editable": true
   },
   "source": [
    "** 整数論をちょっと **   \n",
    "** フェルマーの小定理　**"
   ]
  },
  {
   "cell_type": "markdown",
   "metadata": {
    "deletable": true,
    "editable": true
   },
   "source": [
    "** フェルマーの小定理 **   \n",
    "p が素数で a が p の倍数でなければ\n",
    "$a^{p-1}\\equiv 1 \\pmod{p}$   \n",
    "(以下は　p=19, a=3の例)"
   ]
  },
  {
   "cell_type": "markdown",
   "metadata": {
    "deletable": true,
    "editable": true
   },
   "source": [
    "![3s](http://cdn-ak.f.st-hatena.com/images/fotolife/t/tsujimotter/20151208/20151208000250.png)"
   ]
  },
  {
   "cell_type": "markdown",
   "metadata": {
    "deletable": true,
    "editable": true
   },
   "source": [
    "** 他の例を作ってみましょう **"
   ]
  },
  {
   "cell_type": "code",
   "execution_count": null,
   "metadata": {
    "collapsed": false,
    "deletable": true,
    "editable": true
   },
   "outputs": [],
   "source": [
    "p=23\n",
    "a=7\n",
    "for i in range(p):\n",
    "    print((a**i)%p, end=',')"
   ]
  },
  {
   "cell_type": "code",
   "execution_count": null,
   "metadata": {
    "collapsed": false,
    "deletable": true,
    "editable": true
   },
   "outputs": [],
   "source": [
    "p=19\n",
    "a=3\n",
    "for n in range(p):\n",
    "    print((a**n)%p, end=',') "
   ]
  },
  {
   "cell_type": "code",
   "execution_count": null,
   "metadata": {
    "collapsed": false,
    "deletable": true,
    "editable": true
   },
   "outputs": [],
   "source": [
    "p=2311\n",
    "a=29\n",
    "for i in range(p):\n",
    "    print((a**i)%p, end=',')"
   ]
  },
  {
   "cell_type": "markdown",
   "metadata": {
    "deletable": true,
    "editable": true
   },
   "source": [
    "** ちょっと素数表を作っておきましょう　**"
   ]
  },
  {
   "cell_type": "code",
   "execution_count": null,
   "metadata": {
    "collapsed": true,
    "deletable": true,
    "editable": true
   },
   "outputs": [],
   "source": [
    "def generate_primes():\n",
    "    \"\"\"\n",
    "    3桁までの素数のリストを生成する。\n",
    "    :return:3桁までの素数のリスト\n",
    "    \"\"\"\n",
    "    primes = []\n",
    "    for i in range(2,10000):\n",
    "        flag = True\n",
    "        for j in range(2,i):\n",
    "            if i%j == 0:\n",
    "                flag = False\n",
    "        if flag:\n",
    "            primes.append(i)\n",
    "    return primes"
   ]
  },
  {
   "cell_type": "code",
   "execution_count": null,
   "metadata": {
    "collapsed": false,
    "deletable": true,
    "editable": true
   },
   "outputs": [],
   "source": [
    "primes=generate_primes()\n",
    "print(primes)"
   ]
  },
  {
   "cell_type": "markdown",
   "metadata": {
    "deletable": true,
    "editable": true
   },
   "source": [
    "![angou-1](http://i.imgur.com/wqfotbp.png)"
   ]
  },
  {
   "cell_type": "code",
   "execution_count": null,
   "metadata": {
    "collapsed": false,
    "deletable": true,
    "editable": true
   },
   "outputs": [],
   "source": [
    "68 ** 3 "
   ]
  },
  {
   "cell_type": "code",
   "execution_count": null,
   "metadata": {
    "collapsed": false,
    "deletable": true,
    "editable": true
   },
   "outputs": [],
   "source": [
    "(68 ** 3) % 493"
   ]
  },
  {
   "cell_type": "code",
   "execution_count": null,
   "metadata": {
    "collapsed": false,
    "deletable": true,
    "editable": true
   },
   "outputs": [],
   "source": [
    "283 ** 3"
   ]
  },
  {
   "cell_type": "code",
   "execution_count": null,
   "metadata": {
    "collapsed": false,
    "deletable": true,
    "editable": true
   },
   "outputs": [],
   "source": [
    "(283 ** 3) % 493"
   ]
  },
  {
   "cell_type": "markdown",
   "metadata": {
    "deletable": true,
    "editable": true
   },
   "source": [
    "![angou-2](http://i.imgur.com/rrnOKWi.png)"
   ]
  },
  {
   "cell_type": "code",
   "execution_count": null,
   "metadata": {
    "collapsed": false,
    "deletable": true,
    "editable": true
   },
   "outputs": [],
   "source": [
    "(391 ** 299) % 493"
   ]
  },
  {
   "cell_type": "code",
   "execution_count": null,
   "metadata": {
    "collapsed": false,
    "deletable": true,
    "editable": true
   },
   "outputs": [],
   "source": [
    "(5 ** 299) % 493"
   ]
  },
  {
   "cell_type": "code",
   "execution_count": null,
   "metadata": {
    "collapsed": false,
    "deletable": true,
    "editable": true
   },
   "outputs": [],
   "source": [
    "(5 ** 299)"
   ]
  },
  {
   "cell_type": "code",
   "execution_count": null,
   "metadata": {
    "collapsed": false,
    "deletable": true,
    "editable": true
   },
   "outputs": [],
   "source": [
    "(391 ** 299)"
   ]
  },
  {
   "cell_type": "markdown",
   "metadata": {
    "deletable": true,
    "editable": true
   },
   "source": [
    "![angou-3](http://i.imgur.com/UPGTxnE.png)"
   ]
  },
  {
   "cell_type": "markdown",
   "metadata": {
    "deletable": true,
    "editable": true
   },
   "source": [
    "** plane_textのところにいろんな数字を入れて　暗号・復号捜査を行ってみましょう　**"
   ]
  },
  {
   "cell_type": "code",
   "execution_count": null,
   "metadata": {
    "collapsed": false,
    "deletable": true,
    "editable": true
   },
   "outputs": [],
   "source": [
    "plane_text = 2\n",
    "encrypted_text = (plane_text ** 3) % 493\n",
    "decrypted_text = (encrypted_text ** 299) % 493\n",
    "print(\"plane_text=\",plane_text)\n",
    "print(\"encrypted_text=\",encrypted_text)\n",
    "print(\"decrypted_text=\",decrypted_text)"
   ]
  },
  {
   "cell_type": "markdown",
   "metadata": {
    "deletable": true,
    "editable": true
   },
   "source": [
    "** e, n ,d を別の組み合わせにして暗号化、復号化を試してみましょう　**"
   ]
  },
  {
   "cell_type": "code",
   "execution_count": null,
   "metadata": {
    "collapsed": false,
    "deletable": true,
    "editable": true
   },
   "outputs": [],
   "source": [
    "e=3\n",
    "n=493\n",
    "d=299\n",
    "plane_text = 2\n",
    "encrypted_text = (plane_text ** e) % n\n",
    "decrypted_text = (encrypted_text ** d) % n\n",
    "print(\"plane_text=\",plane_text)\n",
    "print(\"encrypted_text=\",encrypted_text)\n",
    "print(\"decrypted_text=\",decrypted_text)"
   ]
  },
  {
   "cell_type": "markdown",
   "metadata": {
    "deletable": true,
    "editable": true
   },
   "source": [
    "** ユークリッド互除法の計算例 **"
   ]
  },
  {
   "cell_type": "code",
   "execution_count": null,
   "metadata": {
    "collapsed": false,
    "deletable": true,
    "editable": true
   },
   "outputs": [],
   "source": [
    "#!/usr/bin/env python\n",
    "# coding: utf-8\n",
    "\n",
    "def gcd(x, y):\n",
    "    r = modlog(x, y)\n",
    "    while r != 0:\n",
    "        x = y\n",
    "        y = r\n",
    "        r = modlog(x, y)\n",
    "    return y\n",
    "\n",
    "def modlog(x, y):\n",
    "    r = x % y\n",
    "    print (u'%d ÷ %d の余りは %d です' % (x, y, r))\n",
    "    return r\n",
    "\n",
    "A=130\n",
    "B=59\n",
    "gcd(A,B)"
   ]
  },
  {
   "cell_type": "markdown",
   "metadata": {
    "deletable": true,
    "editable": true
   },
   "source": [
    "** eとnからd を求める　拡張ユークリッド互除法　関数定義 **"
   ]
  },
  {
   "cell_type": "code",
   "execution_count": null,
   "metadata": {
    "collapsed": false,
    "deletable": true,
    "editable": true
   },
   "outputs": [],
   "source": [
    "def egcd(a, b):\n",
    "    (x, lastx) = (0, 1)\n",
    "    (y, lasty) = (1, 0)\n",
    "    while b != 0:\n",
    "        q = a // b\n",
    "        (a, b) = (b, a % b)\n",
    "        (x, lastx) = (lastx - q * x, x)\n",
    "        (y, lasty) = (lasty - q * y, y)\n",
    "    return (lastx, lasty, a)\n",
    "\n",
    "# ax ≡ 1 (mod m)\n",
    "def modinv(a, m):\n",
    "    (inv, q, gcd_val) = egcd(a, m)\n",
    "    return inv % m"
   ]
  },
  {
   "cell_type": "markdown",
   "metadata": {
    "deletable": true,
    "editable": true
   },
   "source": [
    "** eとnからd を求める　拡張ユークリッド互除法　計算例 **"
   ]
  },
  {
   "cell_type": "code",
   "execution_count": null,
   "metadata": {
    "collapsed": false,
    "deletable": true,
    "editable": true
   },
   "outputs": [],
   "source": [
    "e=59\n",
    "n=130\n",
    "modinv(e, n)"
   ]
  },
  {
   "cell_type": "code",
   "execution_count": null,
   "metadata": {
    "collapsed": false,
    "deletable": true,
    "editable": true
   },
   "outputs": [],
   "source": [
    "e=3\n",
    "n=448\n",
    "modinv(e, n)"
   ]
  },
  {
   "cell_type": "code",
   "execution_count": null,
   "metadata": {
    "collapsed": false,
    "deletable": true,
    "editable": true
   },
   "outputs": [],
   "source": [
    "e=5\n",
    "n=7488\n",
    "modinv(e, n)"
   ]
  }
 ],
 "metadata": {
  "kernelspec": {
   "display_name": "Python 3",
   "language": "python",
   "name": "python3"
  },
  "language_info": {
   "codemirror_mode": {
    "name": "ipython",
    "version": 3
   },
   "file_extension": ".py",
   "mimetype": "text/x-python",
   "name": "python",
   "nbconvert_exporter": "python",
   "pygments_lexer": "ipython3",
   "version": "3.5.2"
  }
 },
 "nbformat": 4,
 "nbformat_minor": 2
}
