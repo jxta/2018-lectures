{
 "cells": [
  {
   "cell_type": "markdown",
   "metadata": {},
   "source": [
    "** OpenStakc Web APIを使って仮想マシンを操作してみよう　** 　　\n",
    "\n",
    "API referenceは　　\n",
    "\n",
    "https://developer.openstack.org/ja/api-guide/quick-start/　　\n",
    "\n",
    "https://developer.openstack.org/api-ref/identity/v2/　　\n",
    "\n",
    "https://developer.openstack.org/api-ref/compute/"
   ]
  },
  {
   "cell_type": "markdown",
   "metadata": {},
   "source": [
    "** まず　APIを使う時の認証に必要なtokenを　usernameとpasswordを　identity manager に問い合わせて獲得　** 　　\n",
    "\n",
    "token のところの　idに現れる　文字列がそれ。但し、一定時間経つと　expireするので使えなくなる　　\n",
    "\n",
    "token は以降　APIを呼び出すたびに必要となる"
   ]
  },
  {
   "cell_type": "code",
   "execution_count": 3,
   "metadata": {
    "collapsed": false
   },
   "outputs": [
    {
     "name": "stdout",
     "output_type": "stream",
     "text": [
      "Ign http://cdn-fastly.deb.debian.org jessie InRelease\n",
      "Hit http://cdn-fastly.deb.debian.org jessie/updates InRelease\n",
      "Hit http://cdn-fastly.deb.debian.org jessie Release.gpg\n",
      "Get:1 http://cdn-fastly.deb.debian.org jessie/updates/main amd64 Packages [592 kB]\n",
      "Hit http://cdn-fastly.deb.debian.org jessie Release\n",
      "Get:2 http://cdn-fastly.deb.debian.org jessie/main amd64 Packages [9,098 kB]\n",
      "Fetched 9,690 kB in 3s (3,036 kB/s)\n",
      "Reading package lists... Done\n",
      "Reading package lists... Done\n",
      "Building dependency tree       \n",
      "Reading state information... Done\n",
      "The following extra packages will be installed:\n",
      "  libcurl3\n",
      "The following NEW packages will be installed:\n",
      "  curl libcurl3\n",
      "0 upgraded, 2 newly installed, 0 to remove and 158 not upgraded.\n",
      "Need to get 461 kB of archives.\n",
      "After this operation, 934 kB of additional disk space will be used.\n",
      "Get:1 http://cdn-fastly.deb.debian.org/debian/ jessie/main libcurl3 amd64 7.38.0-4+deb8u11 [260 kB]\n",
      "Get:2 http://cdn-fastly.deb.debian.org/debian/ jessie/main curl amd64 7.38.0-4+deb8u11 [201 kB]\n",
      "Fetched 461 kB in 0s (553 kB/s)\n",
      "debconf: delaying package configuration, since apt-utils is not installed\n",
      "Selecting previously unselected package libcurl3:amd64.\n",
      "(Reading database ... 81990 files and directories currently installed.)\n",
      "Preparing to unpack .../libcurl3_7.38.0-4+deb8u11_amd64.deb ...\n",
      "Unpacking libcurl3:amd64 (7.38.0-4+deb8u11) ...\n",
      "Selecting previously unselected package curl.\n",
      "Preparing to unpack .../curl_7.38.0-4+deb8u11_amd64.deb ...\n",
      "Unpacking curl (7.38.0-4+deb8u11) ...\n",
      "Setting up libcurl3:amd64 (7.38.0-4+deb8u11) ...\n",
      "Setting up curl (7.38.0-4+deb8u11) ...\n",
      "Processing triggers for libc-bin (2.19-18+deb8u6) ...\n"
     ]
    }
   ],
   "source": [
    "!sudo apt-get update;sudo apt-get install curl -y"
   ]
  },
  {
   "cell_type": "code",
   "execution_count": 61,
   "metadata": {
    "collapsed": false
   },
   "outputs": [
    {
     "name": "stdout",
     "output_type": "stream",
     "text": [
      "env: OS_AUTH_URL=http://133.8.140.99:5000/v3\n",
      "env: OS_PROJECT_NAME=students\n",
      "env: OS_USERNAME=yoko\n",
      "env: OS_PASSWORD=Gunma-u#\n",
      "env: OS_PROJECT_DOMAIN_NAME=default\n",
      "env: OS_USER_DOMAIN_NAME=default\n",
      "env: NOVA_END_POINT=http://133.8.140.99:8774/v2.1/522dde6eaa964f189ac4d1d58eb96ce5\n"
     ]
    }
   ],
   "source": [
    "%env OS_AUTH_URL=http://133.8.140.99:5000/v3\n",
    "%env OS_PROJECT_NAME=students\n",
    "%env OS_USERNAME=yoko\n",
    "%env OS_PASSWORD=Gunma-u#\n",
    "%env OS_PROJECT_DOMAIN_NAME=default\n",
    "%env OS_USER_DOMAIN_NAME=default\n",
    "%env NOVA_END_POINT=http://133.8.140.99:8774/v2.1/522dde6eaa964f189ac4d1d58eb96ce5"
   ]
  },
  {
   "cell_type": "code",
   "execution_count": 58,
   "metadata": {
    "collapsed": false,
    "editable": true
   },
   "outputs": [
    {
     "name": "stdout",
     "output_type": "stream",
     "text": [
      "* Hostname was NOT found in DNS cache\n",
      "*   Trying 133.8.140.99...\n",
      "* Connected to 133.8.140.99 (133.8.140.99) port 5000 (#0)\n",
      "> POST /v3/auth/tokens?nocatalog HTTP/1.1\n",
      "> User-Agent: curl/7.38.0\n",
      "> Host: 133.8.140.99:5000\n",
      "> Accept: */*\n",
      "> Content-Type: application/json\n",
      "> Content-Length: 230\n",
      "> \n",
      "} [data not shown]\n",
      "* upload completely sent off: 230 out of 230 bytes\n",
      "< HTTP/1.1 201 Created\n",
      "< Date: Thu, 12 Jul 2018 05:14:18 GMT\n",
      "* Server Apache/2.4.6 (CentOS) is not blacklisted\n",
      "< Server: Apache/2.4.6 (CentOS)\n",
      "< X-Subject-Token: gAAAAABbRuOqyOnchS1vkBQ1nKlGiQ6HKrdcCxhxS5RWYlmpAuVPNDdhSxF1FOzn0ClB91VVEDHkX1x-K8Obl5a5bBv6Kzx0sG42u9J0-TnyTkh1T0fwpOj5aVigPfz4zZ9zjgt_5XUvKqKQHN08yv7vNXVvt3LhBWsisqZ153EarEepWOENEt4\n",
      "< Vary: X-Auth-Token\n",
      "< x-openstack-request-id: req-fff401e4-7016-44d0-b67f-f1f7a729bc92\n",
      "< Content-Length: 529\n",
      "< Content-Type: application/json\n",
      "< \n",
      "{ [data not shown]\n",
      "* Connection #0 to host 133.8.140.99 left intact\n",
      "{\n",
      "    \"token\": {\n",
      "        \"is_domain\": false,\n",
      "        \"methods\": [\n",
      "            \"password\"\n",
      "        ],\n",
      "        \"roles\": [\n",
      "            {\n",
      "                \"id\": \"9fe2ff9ee4384b1894a90878d3e92bab\",\n",
      "                \"name\": \"_member_\"\n",
      "            }\n",
      "        ],\n",
      "        \"expires_at\": \"2018-07-12T06:14:18.000000Z\",\n",
      "        \"project\": {\n",
      "            \"domain\": {\n",
      "                \"id\": \"default\",\n",
      "                \"name\": \"Default\"\n",
      "            },\n",
      "            \"id\": \"522dde6eaa964f189ac4d1d58eb96ce5\",\n",
      "            \"name\": \"students\"\n",
      "        },\n",
      "        \"user\": {\n",
      "            \"password_expires_at\": null,\n",
      "            \"domain\": {\n",
      "                \"id\": \"default\",\n",
      "                \"name\": \"Default\"\n",
      "            },\n",
      "            \"id\": \"2b815aac9fad476ebf0b2c142cd12141\",\n",
      "            \"name\": \"yoko\"\n",
      "        },\n",
      "        \"audit_ids\": [\n",
      "            \"KXnGewODR3-X0nZWt1SI-w\"\n",
      "        ],\n",
      "        \"issued_at\": \"2018-07-12T05:14:18.000000Z\"\n",
      "    }\n",
      "}\n"
     ]
    }
   ],
   "source": [
    "!curl -v -s -X POST $OS_AUTH_URL/auth/tokens?nocatalog   -H \"Content-Type: application/json\"   -d '{ \"auth\": { \"identity\": { \"methods\": [\"password\"],\"password\": {\"user\": {\"domain\": {\"name\": \"'\"$OS_USER_DOMAIN_NAME\"'\"},\"name\": \"'\"$OS_USERNAME\"'\", \"password\": \"'\"$OS_PASSWORD\"'\"} } }, \"scope\": { \"project\": { \"domain\": { \"name\": \"'\"$OS_PROJECT_DOMAIN_NAME\"'\" }, \"name\":  \"'\"$OS_PROJECT_NAME\"'\" } } }}' \\\n",
    "| python -m json.tool"
   ]
  },
  {
   "cell_type": "code",
   "execution_count": 59,
   "metadata": {
    "collapsed": false
   },
   "outputs": [
    {
     "name": "stdout",
     "output_type": "stream",
     "text": [
      "env: X_Auth_Token=\"gAAAAABbRuOqyOnchS1vkBQ1nKlGiQ6HKrdcCxhxS5RWYlmpAuVPNDdhSxF1FOzn0ClB91VVEDHkX1x-K8Obl5a5bBv6Kzx0sG42u9J0-TnyTkh1T0fwpOj5aVigPfz4zZ9zjgt_5XUvKqKQHN08yv7vNXVvt3LhBWsisqZ153EarEepWOENEt4\"\n"
     ]
    }
   ],
   "source": [
    "%env X_Auth_Token=\"gAAAAABbRuOqyOnchS1vkBQ1nKlGiQ6HKrdcCxhxS5RWYlmpAuVPNDdhSxF1FOzn0ClB91VVEDHkX1x-K8Obl5a5bBv6Kzx0sG42u9J0-TnyTkh1T0fwpOj5aVigPfz4zZ9zjgt_5XUvKqKQHN08yv7vNXVvt3LhBWsisqZ153EarEepWOENEt4\""
   ]
  },
  {
   "cell_type": "code",
   "execution_count": 62,
   "metadata": {
    "collapsed": false,
    "deletable": true,
    "editable": true
   },
   "outputs": [
    {
     "name": "stdout",
     "output_type": "stream",
     "text": [
      "{\r\n",
      "    \"flavors\": [\r\n",
      "        {\r\n",
      "            \"id\": \"1\",\r\n",
      "            \"links\": [\r\n",
      "                {\r\n",
      "                    \"href\": \"http://133.8.140.99:8774/v2.1/522dde6eaa964f189ac4d1d58eb96ce5/flavors/1\",\r\n",
      "                    \"rel\": \"self\"\r\n",
      "                },\r\n",
      "                {\r\n",
      "                    \"href\": \"http://133.8.140.99:8774/522dde6eaa964f189ac4d1d58eb96ce5/flavors/1\",\r\n",
      "                    \"rel\": \"bookmark\"\r\n",
      "                }\r\n",
      "            ],\r\n",
      "            \"name\": \"m1.tiny\"\r\n",
      "        },\r\n",
      "        {\r\n",
      "            \"id\": \"2\",\r\n",
      "            \"links\": [\r\n",
      "                {\r\n",
      "                    \"href\": \"http://133.8.140.99:8774/v2.1/522dde6eaa964f189ac4d1d58eb96ce5/flavors/2\",\r\n",
      "                    \"rel\": \"self\"\r\n",
      "                },\r\n",
      "                {\r\n",
      "                    \"href\": \"http://133.8.140.99:8774/522dde6eaa964f189ac4d1d58eb96ce5/flavors/2\",\r\n",
      "                    \"rel\": \"bookmark\"\r\n",
      "                }\r\n",
      "            ],\r\n",
      "            \"name\": \"m1.small\"\r\n",
      "        },\r\n",
      "        {\r\n",
      "            \"id\": \"3\",\r\n",
      "            \"links\": [\r\n",
      "                {\r\n",
      "                    \"href\": \"http://133.8.140.99:8774/v2.1/522dde6eaa964f189ac4d1d58eb96ce5/flavors/3\",\r\n",
      "                    \"rel\": \"self\"\r\n",
      "                },\r\n",
      "                {\r\n",
      "                    \"href\": \"http://133.8.140.99:8774/522dde6eaa964f189ac4d1d58eb96ce5/flavors/3\",\r\n",
      "                    \"rel\": \"bookmark\"\r\n",
      "                }\r\n",
      "            ],\r\n",
      "            \"name\": \"m1.medium\"\r\n",
      "        },\r\n",
      "        {\r\n",
      "            \"id\": \"4\",\r\n",
      "            \"links\": [\r\n",
      "                {\r\n",
      "                    \"href\": \"http://133.8.140.99:8774/v2.1/522dde6eaa964f189ac4d1d58eb96ce5/flavors/4\",\r\n",
      "                    \"rel\": \"self\"\r\n",
      "                },\r\n",
      "                {\r\n",
      "                    \"href\": \"http://133.8.140.99:8774/522dde6eaa964f189ac4d1d58eb96ce5/flavors/4\",\r\n",
      "                    \"rel\": \"bookmark\"\r\n",
      "                }\r\n",
      "            ],\r\n",
      "            \"name\": \"m1.large\"\r\n",
      "        },\r\n",
      "        {\r\n",
      "            \"id\": \"5\",\r\n",
      "            \"links\": [\r\n",
      "                {\r\n",
      "                    \"href\": \"http://133.8.140.99:8774/v2.1/522dde6eaa964f189ac4d1d58eb96ce5/flavors/5\",\r\n",
      "                    \"rel\": \"self\"\r\n",
      "                },\r\n",
      "                {\r\n",
      "                    \"href\": \"http://133.8.140.99:8774/522dde6eaa964f189ac4d1d58eb96ce5/flavors/5\",\r\n",
      "                    \"rel\": \"bookmark\"\r\n",
      "                }\r\n",
      "            ],\r\n",
      "            \"name\": \"m1.xlarge\"\r\n",
      "        }\r\n",
      "    ]\r\n",
      "}\r\n"
     ]
    }
   ],
   "source": [
    "!curl -s -H  \"X-Auth-Token:$X_Auth_Token\" $NOVA_END_POINT/flavors | python -m json.tool"
   ]
  },
  {
   "cell_type": "markdown",
   "metadata": {},
   "source": [
    "** server 一覧　を取得し、自分の使っている仮想マシンの　server_idを得る　**"
   ]
  },
  {
   "cell_type": "code",
   "execution_count": 63,
   "metadata": {
    "collapsed": false,
    "deletable": true,
    "editable": true
   },
   "outputs": [
    {
     "name": "stdout",
     "output_type": "stream",
     "text": [
      "{\r\n",
      "    \"servers\": [\r\n",
      "        {\r\n",
      "            \"id\": \"fdcd348e-67cf-4396-a3b4-f2859439ceff\",\r\n",
      "            \"links\": [\r\n",
      "                {\r\n",
      "                    \"href\": \"http://133.8.140.99:8774/v2.1/522dde6eaa964f189ac4d1d58eb96ce5/servers/fdcd348e-67cf-4396-a3b4-f2859439ceff\",\r\n",
      "                    \"rel\": \"self\"\r\n",
      "                },\r\n",
      "                {\r\n",
      "                    \"href\": \"http://133.8.140.99:8774/522dde6eaa964f189ac4d1d58eb96ce5/servers/fdcd348e-67cf-4396-a3b4-f2859439ceff\",\r\n",
      "                    \"rel\": \"bookmark\"\r\n",
      "                }\r\n",
      "            ],\r\n",
      "            \"name\": \"yoko-7777\"\r\n",
      "        }\r\n",
      "    ]\r\n",
      "}\r\n"
     ]
    }
   ],
   "source": [
    "!curl -s -H  \"X-Auth-Token:$X_Auth_Token\" $NOVA_END_POINT/servers | python -m json.tool"
   ]
  },
  {
   "cell_type": "markdown",
   "metadata": {},
   "source": [
    "** 取得したserver_idを指定して、その仮想マシンの詳細情報を取得　**"
   ]
  },
  {
   "cell_type": "code",
   "execution_count": 64,
   "metadata": {
    "collapsed": false,
    "deletable": true,
    "editable": true
   },
   "outputs": [
    {
     "name": "stdout",
     "output_type": "stream",
     "text": [
      "env: SERVER_ID=fdcd348e-67cf-4396-a3b4-f2859439ceff\n",
      "{\n",
      "    \"server\": {\n",
      "        \"OS-EXT-STS:task_state\": null,\n",
      "        \"addresses\": {\n",
      "            \"private_network\": [\n",
      "                {\n",
      "                    \"OS-EXT-IPS-MAC:mac_addr\": \"fa:16:3e:87:c4:dc\",\n",
      "                    \"version\": 4,\n",
      "                    \"addr\": \"192.168.100.12\",\n",
      "                    \"OS-EXT-IPS:type\": \"fixed\"\n",
      "                }\n",
      "            ]\n",
      "        },\n",
      "        \"links\": [\n",
      "            {\n",
      "                \"href\": \"http://133.8.140.99:8774/v2.1/522dde6eaa964f189ac4d1d58eb96ce5/servers/fdcd348e-67cf-4396-a3b4-f2859439ceff\",\n",
      "                \"rel\": \"self\"\n",
      "            },\n",
      "            {\n",
      "                \"href\": \"http://133.8.140.99:8774/522dde6eaa964f189ac4d1d58eb96ce5/servers/fdcd348e-67cf-4396-a3b4-f2859439ceff\",\n",
      "                \"rel\": \"bookmark\"\n",
      "            }\n",
      "        ],\n",
      "        \"image\": {\n",
      "            \"id\": \"f3b747fb-40fd-4142-a5c7-41efb0c65e3e\",\n",
      "            \"links\": [\n",
      "                {\n",
      "                    \"href\": \"http://133.8.140.99:8774/522dde6eaa964f189ac4d1d58eb96ce5/images/f3b747fb-40fd-4142-a5c7-41efb0c65e3e\",\n",
      "                    \"rel\": \"bookmark\"\n",
      "                }\n",
      "            ]\n",
      "        },\n",
      "        \"OS-EXT-STS:vm_state\": \"active\",\n",
      "        \"OS-SRV-USG:launched_at\": \"2018-07-12T04:48:39.000000\",\n",
      "        \"flavor\": {\n",
      "            \"id\": \"2\",\n",
      "            \"links\": [\n",
      "                {\n",
      "                    \"href\": \"http://133.8.140.99:8774/522dde6eaa964f189ac4d1d58eb96ce5/flavors/2\",\n",
      "                    \"rel\": \"bookmark\"\n",
      "                }\n",
      "            ]\n",
      "        },\n",
      "        \"id\": \"fdcd348e-67cf-4396-a3b4-f2859439ceff\",\n",
      "        \"security_groups\": [\n",
      "            {\n",
      "                \"name\": \"default\"\n",
      "            }\n",
      "        ],\n",
      "        \"user_id\": \"2b815aac9fad476ebf0b2c142cd12141\",\n",
      "        \"OS-DCF:diskConfig\": \"AUTO\",\n",
      "        \"accessIPv4\": \"\",\n",
      "        \"accessIPv6\": \"\",\n",
      "        \"progress\": 0,\n",
      "        \"OS-EXT-STS:power_state\": 1,\n",
      "        \"OS-EXT-AZ:availability_zone\": \"nova\",\n",
      "        \"config_drive\": \"\",\n",
      "        \"status\": \"ACTIVE\",\n",
      "        \"updated\": \"2018-07-12T04:48:39Z\",\n",
      "        \"hostId\": \"e62782384a4f03a961dc9a41e6f0e692e296867ea09bc6a9734a13c4\",\n",
      "        \"OS-SRV-USG:terminated_at\": null,\n",
      "        \"key_name\": null,\n",
      "        \"name\": \"yoko-7777\",\n",
      "        \"created\": \"2018-07-12T04:48:34Z\",\n",
      "        \"tenant_id\": \"522dde6eaa964f189ac4d1d58eb96ce5\",\n",
      "        \"os-extended-volumes:volumes_attached\": [],\n",
      "        \"metadata\": {}\n",
      "    }\n",
      "}\n"
     ]
    }
   ],
   "source": [
    "%env SERVER_ID=fdcd348e-67cf-4396-a3b4-f2859439ceff\n",
    "!curl -s -H  \"X-Auth-Token:$X_Auth_Token\" $NOVA_END_POINT/servers/$SERVER_ID | python -m json.tool"
   ]
  },
  {
   "cell_type": "markdown",
   "metadata": {},
   "source": [
    "** その仮想マシンの名前を変更してみましょう。** \n",
    "\n",
    "**そして実際に変化していることを OpenStackのDash Boardで確認してみよう　**  \n",
    "\n",
    "OpenStackのDash Board : http://133.8.140.99/dashboard"
   ]
  },
  {
   "cell_type": "code",
   "execution_count": 65,
   "metadata": {
    "collapsed": false,
    "deletable": true,
    "editable": true
   },
   "outputs": [
    {
     "name": "stdout",
     "output_type": "stream",
     "text": [
      "  % Total    % Received % Xferd  Average Speed   Time    Time     Time  Current\n",
      "                                 Dload  Upload   Total   Spent    Left  Speed\n",
      "100  1163  100  1127  100    36   4435    141 --:--:-- --:--:-- --:--:--  4454\n",
      "{\n",
      "    \"server\": {\n",
      "        \"status\": \"ACTIVE\",\n",
      "        \"updated\": \"2018-07-12T04:48:39Z\",\n",
      "        \"hostId\": \"e62782384a4f03a961dc9a41e6f0e692e296867ea09bc6a9734a13c4\",\n",
      "        \"user_id\": \"2b815aac9fad476ebf0b2c142cd12141\",\n",
      "        \"name\": \"yoko-7777\",\n",
      "        \"links\": [\n",
      "            {\n",
      "                \"href\": \"http://133.8.140.99:8774/v2.1/522dde6eaa964f189ac4d1d58eb96ce5/servers/fdcd348e-67cf-4396-a3b4-f2859439ceff\",\n",
      "                \"rel\": \"self\"\n",
      "            },\n",
      "            {\n",
      "                \"href\": \"http://133.8.140.99:8774/522dde6eaa964f189ac4d1d58eb96ce5/servers/fdcd348e-67cf-4396-a3b4-f2859439ceff\",\n",
      "                \"rel\": \"bookmark\"\n",
      "            }\n",
      "        ],\n",
      "        \"created\": \"2018-07-12T04:48:34Z\",\n",
      "        \"tenant_id\": \"522dde6eaa964f189ac4d1d58eb96ce5\",\n",
      "        \"image\": {\n",
      "            \"id\": \"f3b747fb-40fd-4142-a5c7-41efb0c65e3e\",\n",
      "            \"links\": [\n",
      "                {\n",
      "                    \"href\": \"http://133.8.140.99:8774/522dde6eaa964f189ac4d1d58eb96ce5/images/f3b747fb-40fd-4142-a5c7-41efb0c65e3e\",\n",
      "                    \"rel\": \"bookmark\"\n",
      "                }\n",
      "            ]\n",
      "        },\n",
      "        \"OS-DCF:diskConfig\": \"AUTO\",\n",
      "        \"addresses\": {\n",
      "            \"private_network\": [\n",
      "                {\n",
      "                    \"version\": 4,\n",
      "                    \"addr\": \"192.168.100.12\"\n",
      "                }\n",
      "            ]\n",
      "        },\n",
      "        \"accessIPv4\": \"\",\n",
      "        \"accessIPv6\": \"\",\n",
      "        \"progress\": 0,\n",
      "        \"flavor\": {\n",
      "            \"id\": \"2\",\n",
      "            \"links\": [\n",
      "                {\n",
      "                    \"href\": \"http://133.8.140.99:8774/522dde6eaa964f189ac4d1d58eb96ce5/flavors/2\",\n",
      "                    \"rel\": \"bookmark\"\n",
      "                }\n",
      "            ]\n",
      "        },\n",
      "        \"id\": \"fdcd348e-67cf-4396-a3b4-f2859439ceff\",\n",
      "        \"metadata\": {}\n",
      "    }\n",
      "}\n"
     ]
    }
   ],
   "source": [
    "!curl -X PUT -H \"Content-Type: application/json\" -H \"X-Auth-Token:$X_Auth_Token\"  -d '{\"server\": { \"name\" : \"yoko-7777\" }}' $NOVA_END_POINT/servers/$SERVER_ID|python -m json.tool"
   ]
  },
  {
   "cell_type": "markdown",
   "metadata": {},
   "source": [
    "** 仮想マシンを停止してみよう　**\n",
    "\n",
    "**そして実際に停止していることを OpenStackのDash Boardで確認してみよう　**  \n",
    "\n",
    "** また、sshできなくなっていることを確認してみよう　**\n",
    "\n",
    "OpenStackのDash Board : http://133.8.140.99/dashboard\n"
   ]
  },
  {
   "cell_type": "code",
   "execution_count": 50,
   "metadata": {
    "collapsed": false,
    "deletable": true,
    "editable": true
   },
   "outputs": [],
   "source": [
    "!curl -X POST -H \"Content-Type: application/json\" -H \"X-Auth-Token:$X_Auth_Token\"  -d '{\"os-stop\": null}' $NOVA_END_POINT/servers/$SERVER_ID/action"
   ]
  },
  {
   "cell_type": "markdown",
   "metadata": {
    "deletable": true,
    "editable": true
   },
   "source": [
    "** 仮想マシンを再稼働してみよう　**\n",
    "\n",
    "**そして実際に再稼働していることを OpenStackのDash Boardで確認してみよう　**  \n",
    "\n",
    "** sshが再度できるようになっていることを確認してみよう　**\n",
    "\n",
    "OpenStackのDash Board : http://133.8.140.99/dashboard\n"
   ]
  },
  {
   "cell_type": "code",
   "execution_count": 51,
   "metadata": {
    "collapsed": false,
    "deletable": true,
    "editable": true
   },
   "outputs": [],
   "source": [
    "!curl -X POST -H \"Content-Type: application/json\" -H \"X-Auth-Token:$X_Auth_Token\"  -d '{\"os-start\": null}' $NOVA_END_POINT/servers/$SERVER_ID/action"
   ]
  }
 ],
 "metadata": {
  "kernelspec": {
   "display_name": "Python 3",
   "language": "python",
   "name": "python3"
  },
  "language_info": {
   "codemirror_mode": {
    "name": "ipython",
    "version": 3
   },
   "file_extension": ".py",
   "mimetype": "text/x-python",
   "name": "python",
   "nbconvert_exporter": "python",
   "pygments_lexer": "ipython3",
   "version": "3.5.2"
  }
 },
 "nbformat": 4,
 "nbformat_minor": 2
}
