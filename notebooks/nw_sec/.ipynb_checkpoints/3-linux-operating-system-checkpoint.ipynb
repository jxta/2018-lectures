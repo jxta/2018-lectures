{
 "cells": [
  {
   "cell_type": "markdown",
   "metadata": {
    "deletable": true,
    "editable": true
   },
   "source": [
    "** Linuxコマンドを使ってみよう ** （Jupyter notebookのcell内では　**! **の後にLinuxコマンドを書くとコマンドが実行できる。）"
   ]
  },
  {
   "cell_type": "markdown",
   "metadata": {
    "deletable": true,
    "editable": true
   },
   "source": [
    "** 出席管理用　etherpad https://etherpad.openstack.org/p/h30-nw-sec-ac から　curlコマンドで情報を取得 **"
   ]
  },
  {
   "cell_type": "code",
   "execution_count": null,
   "metadata": {
    "collapsed": false,
    "deletable": true,
    "editable": true
   },
   "outputs": [],
   "source": [
    "!curl https://etherpad.openstack.org/p/h30-nw-sec-ac/export/txt"
   ]
  },
  {
   "cell_type": "markdown",
   "metadata": {
    "deletable": true,
    "editable": true
   },
   "source": [
    "** cutコマンドで　1列目の情報だけを取り出す。　二つのコマンド（curlとcut）で pipeを通じて　データを受け渡している。pipeは　| で示す。 **"
   ]
  },
  {
   "cell_type": "code",
   "execution_count": null,
   "metadata": {
    "collapsed": false,
    "deletable": true,
    "editable": true
   },
   "outputs": [],
   "source": [
    "!curl https://etherpad.openstack.org/p/h30-nw-sec-ac/export/txt|cut -c1-8 "
   ]
  },
  {
   "cell_type": "markdown",
   "metadata": {
    "deletable": true,
    "editable": true
   },
   "source": [
    "** curlコマンドが出力する **　<br>\n",
    "% Total    % Received % Xferd  Average Speed   Time    Time     Time  Current<br>\n",
    "                                 Dload  Upload   Total   Spent    Left  Speed<br>\n",
    "100  1745  100  1745    0     0   1994      0 --:--:-- --:--:-- --:--:--  2008<br>\n",
    "** を　/dev/null　に捨ててデータから消す。 **"
   ]
  },
  {
   "cell_type": "code",
   "execution_count": null,
   "metadata": {
    "collapsed": false,
    "deletable": true,
    "editable": true
   },
   "outputs": [],
   "source": [
    "!(curl https://etherpad.openstack.org/p/h30-nw-sec-ac/export/txt 2> /dev/null)|cut -c1-8 "
   ]
  },
  {
   "cell_type": "markdown",
   "metadata": {
    "deletable": true,
    "editable": true
   },
   "source": [
    "** その週の部分だけを　headコマンドにより取り出す。　head --55 で最初の 55行だけを取り出すことを示す。 **"
   ]
  },
  {
   "cell_type": "code",
   "execution_count": null,
   "metadata": {
    "collapsed": false,
    "deletable": true,
    "editable": true
   },
   "outputs": [],
   "source": [
    "!(curl https://etherpad.openstack.org/p/h29-nw-sec-ac/export/txt 2> /dev/null)|cut -c1-8 |head -55"
   ]
  },
  {
   "cell_type": "markdown",
   "metadata": {
    "deletable": true,
    "editable": true
   },
   "source": [
    "** 出席情報の本体だけ残すために　tailコマンドで後ろから　47行残す。さらに　trコマンドで小文字を全部大文字に変換して記法を揃える。 **"
   ]
  },
  {
   "cell_type": "code",
   "execution_count": null,
   "metadata": {
    "collapsed": false,
    "deletable": true,
    "editable": true
   },
   "outputs": [],
   "source": [
    "!(curl https://etherpad.openstack.org/p/h30-nw-sec-ac/export/txt 2> /dev/null)|cut -c1-8 |head -55|tail -47|tr [a-z] [A-Z]"
   ]
  },
  {
   "cell_type": "markdown",
   "metadata": {
    "deletable": true,
    "editable": true
   },
   "source": [
    "** uniqコマンドにより重複排除を行う。さらにsortコマンドでアルファベット順にソートする。 **"
   ]
  },
  {
   "cell_type": "code",
   "execution_count": null,
   "metadata": {
    "collapsed": false,
    "deletable": true,
    "editable": true
   },
   "outputs": [],
   "source": [
    "!(curl https://etherpad.openstack.org/p/h30-nw-sec-ac/export/txt 2> /dev/null)|cut -c1-8 |head -55|tail -47|tr [a-z] [A-Z]|uniq|sort"
   ]
  },
  {
   "cell_type": "markdown",
   "metadata": {
    "deletable": true,
    "editable": true
   },
   "source": [
    "** 履修者全員のリストが入っている　/notebooks/nw-sec　との差分を　diffコマンドで　抽出して欠席者リストを得る。　**"
   ]
  },
  {
   "cell_type": "code",
   "execution_count": null,
   "metadata": {
    "collapsed": false,
    "deletable": true,
    "editable": true
   },
   "outputs": [],
   "source": [
    "!(curl https://etherpad.openstack.org/p/h30-nw-sec-ac/export/txt 2> /dev/null)|cut -c1-8 |head -55|tail -47|tr [a-z] [A-Z]|uniq|sort| diff - /notebooks/nw-sec"
   ]
  }
 ],
 "metadata": {
  "kernelspec": {
   "display_name": "Python 3",
   "language": "python",
   "name": "python3"
  },
  "language_info": {
   "codemirror_mode": {
    "name": "ipython",
    "version": 3
   },
   "file_extension": ".py",
   "mimetype": "text/x-python",
   "name": "python",
   "nbconvert_exporter": "python",
   "pygments_lexer": "ipython3",
   "version": "3.5.2"
  }
 },
 "nbformat": 4,
 "nbformat_minor": 2
}
