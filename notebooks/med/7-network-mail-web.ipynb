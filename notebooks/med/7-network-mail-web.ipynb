{
 "cells": [
  {
   "cell_type": "markdown",
   "metadata": {},
   "source": [
    "** Webサーバを立ち上げてみましょう　**"
   ]
  },
  {
   "cell_type": "markdown",
   "metadata": {},
   "source": [
    "** Webサーバ　ソフト　Apacheのインストール　**"
   ]
  },
  {
   "cell_type": "code",
   "execution_count": null,
   "metadata": {},
   "outputs": [],
   "source": [
    "!sudo apt-get update"
   ]
  },
  {
   "cell_type": "code",
   "execution_count": null,
   "metadata": {},
   "outputs": [],
   "source": [
    "!sudo apt-get install apache2 -y"
   ]
  },
  {
   "cell_type": "markdown",
   "metadata": {},
   "source": [
    "** Web Server 起動 **"
   ]
  },
  {
   "cell_type": "code",
   "execution_count": null,
   "metadata": {},
   "outputs": [],
   "source": [
    "!sudo /etc/init.d/apache2 start"
   ]
  },
  {
   "cell_type": "markdown",
   "metadata": {},
   "source": [
    "** Webサーバが起動していることをブラウザから確認しましょう **   \n",
    "自分のマシン番号を入れてApache Webページへのアクセス URLを生成"
   ]
  },
  {
   "cell_type": "code",
   "execution_count": null,
   "metadata": {},
   "outputs": [],
   "source": [
    "no=input(\"Please enter host_no: \")\n",
    "print(\"http://133.8.140.98:18\"+ no +\"/index.html\")"
   ]
  },
  {
   "cell_type": "markdown",
   "metadata": {},
   "source": [
    "** HTMLファイルの書き込み権を付与 **"
   ]
  },
  {
   "cell_type": "code",
   "execution_count": null,
   "metadata": {},
   "outputs": [],
   "source": [
    "!sudo chmod 0777 /var/www/html "
   ]
  },
  {
   "cell_type": "markdown",
   "metadata": {},
   "source": [
    "** サンプルWebページ用　ファイル　test.html　を編集できます **"
   ]
  },
  {
   "cell_type": "markdown",
   "metadata": {},
   "source": [
    "[test.html](/edit/work/med/web_samples/test.html)"
   ]
  },
  {
   "cell_type": "markdown",
   "metadata": {},
   "source": [
    "** サンプル htmlファイルを所定のディレクトリに配置　**"
   ]
  },
  {
   "cell_type": "code",
   "execution_count": null,
   "metadata": {
    "scrolled": true
   },
   "outputs": [],
   "source": [
    "!cp web_samples/test.html /var/www/html/test.html; cat /var/www/html/test.html"
   ]
  },
  {
   "cell_type": "markdown",
   "metadata": {},
   "source": [
    "** ブラウザからアクセスできることを確認しましょう **  \n",
    "自分のマシン番号を入れてサンプルWebページへのアクセス URLを生成"
   ]
  },
  {
   "cell_type": "code",
   "execution_count": null,
   "metadata": {},
   "outputs": [],
   "source": [
    "print(\"http://133.8.140.98:18\"+ no +\"/test.html\")"
   ]
  },
  {
   "cell_type": "markdown",
   "metadata": {},
   "source": [
    "** サンプル webページにアクセスした際のアクセス　logを見てみよう　**"
   ]
  },
  {
   "cell_type": "code",
   "execution_count": null,
   "metadata": {},
   "outputs": [],
   "source": [
    "!sudo tail -10 /var/log/apache2/access.log"
   ]
  },
  {
   "cell_type": "markdown",
   "metadata": {},
   "source": [
    "** --------------------------------------------------- **   \n",
    "** もう少し面白いサンプルWebページを触ってみましょう ** *** 1***\n",
    "![mona](http://i.imgur.com/5a0VKZm.jpg)"
   ]
  },
  {
   "cell_type": "code",
   "execution_count": null,
   "metadata": {},
   "outputs": [],
   "source": [
    "! cd web_samples/mona;sudo cp mona.html roxik.as monalisa.jpg nimaime.jpg /var/www/html"
   ]
  },
  {
   "cell_type": "code",
   "execution_count": null,
   "metadata": {},
   "outputs": [],
   "source": [
    "print(\"http://133.8.140.98:18\"+ no +\"/mona.html\")"
   ]
  },
  {
   "cell_type": "code",
   "execution_count": null,
   "metadata": {},
   "outputs": [],
   "source": [
    "!sudo ls -l web_samples/mona/; echo \"\\n nimaime_kouho\" ;ls -l web_samples/mona/nimaime_kouho"
   ]
  },
  {
   "cell_type": "markdown",
   "metadata": {},
   "source": [
    "** モナリザは残して二枚目の写楽を別のイメージに変更してみましょう **   \n",
    "\n",
    "ディレクトリ　nimaime_kouho に入っている　jpg イメージからどれか選んで nimaime.jpgにコピー"
   ]
  },
  {
   "cell_type": "code",
   "execution_count": null,
   "metadata": {},
   "outputs": [],
   "source": [
    "!cd web_samples/mona;sudo cp nimaime_kouho/gakucho.jpg nimaime.jpg "
   ]
  },
  {
   "cell_type": "markdown",
   "metadata": {},
   "source": [
    "[mona.html](/edit/work/med/web_samples/mona/mona.html), [roxik.as](/edit/work/med/web_samples/mona/roxik.as)"
   ]
  },
  {
   "cell_type": "markdown",
   "metadata": {},
   "source": [
    "** もう少し面白いサンプルWebページを触ってみましょう ** ***1*** ** のところから繰り返す　**"
   ]
  },
  {
   "cell_type": "markdown",
   "metadata": {},
   "source": [
    "** --------------------------------------------------- **   \n",
    "** もう少し面白いサンプルWebページを触ってみましょう ** *** 2***\n",
    "![boids](http://i.imgur.com/2t5YaKQ.jpg)"
   ]
  },
  {
   "cell_type": "code",
   "execution_count": null,
   "metadata": {},
   "outputs": [],
   "source": [
    "! cd web_samples/boids;sudo cp boids.html main.js /var/www/html"
   ]
  },
  {
   "cell_type": "code",
   "execution_count": null,
   "metadata": {},
   "outputs": [],
   "source": [
    "print(\"http://133.8.140.98:18\"+ no +\"/boids.html\")"
   ]
  },
  {
   "cell_type": "code",
   "execution_count": null,
   "metadata": {},
   "outputs": [],
   "source": [
    "!sudo ls -l web_samples/boids/"
   ]
  },
  {
   "cell_type": "markdown",
   "metadata": {},
   "source": [
    "[boids.html](/edit/work/med/web_samples/boids/boids.html), [main.js](/edit/work/med/web_samples/boids/main.js)"
   ]
  },
  {
   "cell_type": "markdown",
   "metadata": {},
   "source": [
    "** もう少し面白いサンプルWebページを触ってみましょう ** ***2*** ** のところから繰り返す　**"
   ]
  },
  {
   "cell_type": "markdown",
   "metadata": {},
   "source": [
    "** --------------------------------------------------- **   \n",
    "** もう少し面白いサンプルWebページを触ってみましょう ** *** 3***\n",
    "![tetris](http://i.imgur.com/H7qFDLx.jpg)"
   ]
  },
  {
   "cell_type": "code",
   "execution_count": null,
   "metadata": {},
   "outputs": [],
   "source": [
    "! cd web_samples/tetris;sudo cp -r *  /var/www/html"
   ]
  },
  {
   "cell_type": "code",
   "execution_count": null,
   "metadata": {},
   "outputs": [],
   "source": [
    "print(\"http://133.8.140.98:18\"+ no +\"/tetris.html\")"
   ]
  },
  {
   "cell_type": "code",
   "execution_count": null,
   "metadata": {},
   "outputs": [],
   "source": [
    "!sudo ls -l web_samples/tetris/"
   ]
  },
  {
   "cell_type": "markdown",
   "metadata": {},
   "source": [
    "[tetris.html](/edit/work/med/web_samples/tetris/tetris.html), [tetris.js](/edit/work/med/web_samples/tetris/js/tetris.js), [controller.js](/edit/work/med/web_samples/tetris/js/controller.js), [render.js](/edit/work/med/web_samples/tetris/js/render.js), [style.css](/edit/work/med/web_samples/tetris/style.css)"
   ]
  },
  {
   "cell_type": "markdown",
   "metadata": {},
   "source": [
    "** もう少し面白いサンプルWebページを触ってみましょう ** ***3*** ** のところから繰り返す　**"
   ]
  }
 ],
 "metadata": {
  "kernelspec": {
   "display_name": "Python 3",
   "language": "python",
   "name": "python3"
  },
  "language_info": {
   "codemirror_mode": {
    "name": "ipython",
    "version": 3
   },
   "file_extension": ".py",
   "mimetype": "text/x-python",
   "name": "python",
   "nbconvert_exporter": "python",
   "pygments_lexer": "ipython3",
   "version": "3.6.4"
  }
 },
 "nbformat": 4,
 "nbformat_minor": 2
}
